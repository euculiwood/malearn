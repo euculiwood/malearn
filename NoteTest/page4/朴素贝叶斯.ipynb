{
 "cells": [
  {
   "cell_type": "code",
   "execution_count": 1,
   "metadata": {},
   "outputs": [
    {
     "name": "stdout",
     "output_type": "stream",
     "text": [
      "naive Bayes\n"
     ]
    }
   ],
   "source": [
    "print(\"naive Bayes\")"
   ]
  },
  {
   "cell_type": "markdown",
   "metadata": {},
   "source": [
    "# 朴素贝叶斯法"
   ]
  },
  {
   "cell_type": "markdown",
   "metadata": {},
   "source": [
    "基本方法"
   ]
  },
  {
   "cell_type": "markdown",
   "metadata": {},
   "source": [
    "输入空间$X \\subseteq R_n$,输出空间为类标记集合$y = \\{c_1,c_2,\\cdot \\cdot \\cdot ,c_k\\}$,输入为特征向量x，输出为类标记y。\n",
    "训练数据集$$T = \\{(x_1,y_1),(x_2,y_2),\\cdot \\cdot \\cdot,(x_N,y_N)\\}$$"
   ]
  },
  {
   "cell_type": "markdown",
   "metadata": {},
   "source": [
    "朴素贝叶斯法通过训练数据集学习联合概率分布P(X,Y)$$\\\\$$\n",
    "先验概率分布\n",
    "$$P(Y=c_k),k=1,2,\\cdot \\cdot ,K$$"
   ]
  },
  {
   "cell_type": "markdown",
   "metadata": {},
   "source": [
    "条件概率分布\n",
    "$$P(X=x|Y=c_k) = P(X^{(1)}=x^{(1)},\\cdot \\cdot \\cdot ,X^{(n)}=x^{(n)}|Y=c_k), k=1,2,\\cdot \\cdot ,K$$"
   ]
  },
  {
   "cell_type": "markdown",
   "metadata": {},
   "source": [
    "朴素贝叶斯法对条件概率做强假设，即条件独立性假设，具体为\n",
    "$$ P(X=x|Y=c_k) = P(X^{(1)}=x^{(1)},\\cdot \\cdot \\cdot ,X^{(n)}=x^{(n)}|Y=c_k)\\\\= \\prod_{j=1}^{n}{P(X^{(j)} = x^{(j)}|Y=c_k)}$$"
   ]
  },
  {
   "cell_type": "markdown",
   "metadata": {},
   "source": [
    "条件独立假设用于分类特征在类确定的条件下都是条件独立的，这个假设牺牲一定的分类准确率，使算法更简单。"
   ]
  },
  {
   "cell_type": "markdown",
   "metadata": {},
   "source": [
    "对于给定的x，计算后验概率，将后验概率最大的类作为x的类输出，根据贝叶斯定理，计算后验概率为\n",
    "$$P(Y=c_k|X=x) = \\frac{P(Y=c_k)\\prod_{j}^{}{P(X^{(j)}=x^{(j)}|Y=c_k)}}{\\sum_{k}^{}{P(Y=c_k)} \\prod_{j}^{}{P(X^{(j)} = x^{(j)} | Y = c_k)}}， k= 1,2,\\cdot \\cdot \\cdot ,K$$"
   ]
  },
  {
   "cell_type": "markdown",
   "metadata": {},
   "source": [
    "于是朴素贝叶斯的分类器可以表示为\n",
    "$$y = \\arg \\max_{c_k} P(Y=c_k)\\prod_{j}^{}{P(X^{(j)}=x^{(j)}|Y=c_k)}$$"
   ]
  },
  {
   "cell_type": "markdown",
   "metadata": {},
   "source": [
    "后验概率最大化\n"
   ]
  },
  {
   "cell_type": "markdown",
   "metadata": {},
   "source": [
    "等价于期望风险最小化，需要对X = x逐个极小化，根据期望风险最小化准则就得到了后验概率最大化准则：\n",
    "$$f(x) = \\arg \\max_{c_x}P(c_x|X = x)$$"
   ]
  },
  {
   "cell_type": "markdown",
   "metadata": {},
   "source": [
    "朴素贝叶斯的参数估计"
   ]
  },
  {
   "cell_type": "markdown",
   "metadata": {},
   "source": [
    "极大似然估计"
   ]
  },
  {
   "cell_type": "markdown",
   "metadata": {},
   "source": [
    "在朴素贝叶斯法中，学习即估计$P(Y = c_k )$和 $P=(X^{(j)} = x^{(j)}|Y = c_k)$,可以用极大似然估计得到相应的概率。\n",
    "先验概率的极大似然估计是\n",
    "$$ P(Y = c_k) = \\frac{\\sum_{i=1}{N}{I(y_i=c_k)}}{N},K=1,2,\\cdot \\cdot \\cdot,K$$"
   ]
  },
  {
   "cell_type": "markdown",
   "metadata": {},
   "source": [
    "设第j个特征$x^{(j)}$可能的取值为$\\{a_{j1},a_{j2},\\cdot \\cdot \\cdot,a_js_j\\}"
   ]
  },
  {
   "cell_type": "markdown",
   "metadata": {},
   "source": [
    "条件概率$P（X^{(j)} = a_{jl}|Y = c_k）$的极大似然估计是\n",
    "$$P(X^{(j)} = a_{jl}|Y = c_k) = \\frac{\\sum_{i=1}^{N}{I(x_i^{(j)} =a_[jl],y_i=c_k)}}{\\sum_{i=1}^{N}{I(y_i = c_k)}} \\\\ j=1,2,\\cdot \\cdot,n;  l=1,2,\\cdot \\cdot,S_j;  k=1,2,\\cdot \\cdot,K;$$"
   ]
  },
  {
   "cell_type": "markdown",
   "metadata": {},
   "source": [
    "$x_i^{(j)}$是第i个样本的第j个特征，$a_{jl}$是第j个特征可能取的第l个值，I为指示函数"
   ]
  },
  {
   "cell_type": "markdown",
   "metadata": {},
   "source": [
    "# 朴素贝叶斯算法"
   ]
  },
  {
   "cell_type": "markdown",
   "metadata": {},
   "source": [
    "输入：训练数据$$T=\\{(x_1,y_1),{x_2,y_2},\\cdot\\cdot\\cdot,(x_N,y_N)\\}$$"
   ]
  },
  {
   "cell_type": "markdown",
   "metadata": {},
   "source": [
    "其中$x_i = (x_i^{(1)},x_i^{(2)},\\cdot\\cdot,x_i^{(n)})^T$ ,$x_i^{(j)}$是第i个样本的第j个特征，\n",
    "$$$$$x_i^{(j)} \\in \\{a_{j1},a_{j2},\\cdot\\cdot\\cdot,a_{js_j}\\} $,$a_{jl}$是第j个特征可能取的第l个值\n",
    "$$$$$j=1,2,\\cdot\\cdot,n; l=1,2,\\cdot\\cdot,S_j, y_i \\in \\{c_1,c_2,\\cdot\\cdot,c_k\\}$;"
   ]
  },
  {
   "cell_type": "markdown",
   "metadata": {},
   "source": [
    "输出：实例x的分类"
   ]
  },
  {
   "cell_type": "markdown",
   "metadata": {},
   "source": [
    "（1）计算先验概率和条件概率\n",
    "$$ P(Y = c_k) = \\frac{\\sum_{i=1}^{N}{I(y_i = c_k)}}{N} ,k=1,2,\\cdot\\cdot\\cdot,k  $$"
   ]
  },
  {
   "cell_type": "markdown",
   "metadata": {},
   "source": [
    "$$P(X^{(j)}=a_{jl}|Y=c_k)=\\frac{\\sum_{i=1}^{N}{I(x_i^{(j)} = a_{jl},y_i=c_k)}}{\\sum_{i=1}^{N}{I(y_i=c_k)}}\\\\ j=1,2,\\cdot\\cdot,n; l=1,2,\\cdot\\cdot,S_j; k =1,2,\\cdot\\cdot,k; $$"
   ]
  },
  {
   "cell_type": "markdown",
   "metadata": {},
   "source": [
    "(2)对于给定实例$x=(x^{(1)},x^{(2)},\\cdot\\cdot,x^{(n)})^T$,计算\n",
    "$$P(Y=c_k)\\prod_{j=1}^{n}{P(X^{(j)} = x^{(j)}|Y=c_k)},k=1,2,\\cdot\\cdot\\cdot.k$$"
   ]
  },
  {
   "cell_type": "markdown",
   "metadata": {},
   "source": [
    "（3）确定实例x的分类\n",
    "$$y=\\arg \\max_{c_k}P(Y=c_k)\\prod_{j=1}^{n}{P(x^{(j)} = x^{(j)}|Y=c_k})$$"
   ]
  }
 ],
 "metadata": {
  "kernelspec": {
   "display_name": "Python 3",
   "language": "python",
   "name": "python3"
  },
  "language_info": {
   "codemirror_mode": {
    "name": "ipython",
    "version": 3
   },
   "file_extension": ".py",
   "mimetype": "text/x-python",
   "name": "python",
   "nbconvert_exporter": "python",
   "pygments_lexer": "ipython3",
   "version": "3.7.3"
  }
 },
 "nbformat": 4,
 "nbformat_minor": 2
}
